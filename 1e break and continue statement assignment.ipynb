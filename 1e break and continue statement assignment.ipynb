{
 "cells": [
  {
   "cell_type": "code",
   "execution_count": 6,
   "id": "613fc577",
   "metadata": {},
   "outputs": [
    {
     "name": "stdout",
     "output_type": "stream",
     "text": [
      "counting  1\n",
      "counting  2\n",
      "counting  3\n",
      "counting  4\n"
     ]
    }
   ],
   "source": [
    "#sol1\n",
    "for i in range(1,11):\n",
    "    if i==5:\n",
    "        break\n",
    "    else:\n",
    "        print(f\"counting  {i}\")\n",
    "        "
   ]
  },
  {
   "cell_type": "code",
   "execution_count": 11,
   "id": "9fe34baf",
   "metadata": {},
   "outputs": [
    {
     "name": "stdout",
     "output_type": "stream",
     "text": [
      "ravi\n",
      "20\n",
      "age\n",
      "675655433\n"
     ]
    },
    {
     "data": {
      "text/plain": [
       "list"
      ]
     },
     "execution_count": 11,
     "metadata": {},
     "output_type": "execute_result"
    }
   ],
   "source": [
    "#sol2\n",
    "list_1=[\"ravi\",20,\"age\",675655433,\"mobno\",\"male\"]\n",
    "for i in list_1:\n",
    "    if i==\"mobno\":\n",
    "        break\n",
    "    else:\n",
    "        print(i)\n",
    "    \n"
   ]
  },
  {
   "cell_type": "code",
   "execution_count": 12,
   "id": "45c28055",
   "metadata": {},
   "outputs": [
    {
     "name": "stdout",
     "output_type": "stream",
     "text": [
      "even count =1\n",
      "even count =3\n",
      "even count =5\n",
      "even count =7\n",
      "even count =9\n"
     ]
    }
   ],
   "source": [
    "#3 sol\n",
    "for i in range(1,11):\n",
    "    if i%2==0:\n",
    "        continue\n",
    "    else:\n",
    "        print(f\"even count ={i}\")\n",
    "              "
   ]
  },
  {
   "cell_type": "code",
   "execution_count": 14,
   "id": "16cd44e6",
   "metadata": {},
   "outputs": [
    {
     "name": "stdout",
     "output_type": "stream",
     "text": [
      "1\n",
      "2\n",
      "3\n",
      "4\n",
      "5\n",
      "6\n",
      "7\n",
      "8\n",
      "9\n",
      "10\n"
     ]
    },
    {
     "data": {
      "text/plain": [
       "range"
      ]
     },
     "execution_count": 14,
     "metadata": {},
     "output_type": "execute_result"
    }
   ],
   "source": [
    "#4 sol\n",
    "x=range(1,11)\n",
    "for i in x:\n",
    "    print(i)\n",
    "  \n",
    "    "
   ]
  },
  {
   "cell_type": "code",
   "execution_count": 21,
   "id": "5f5f247a",
   "metadata": {},
   "outputs": [
    {
     "name": "stdout",
     "output_type": "stream",
     "text": [
      "1 * 1 = 1  ,   2 * 1 = 2  ,   3 * 1 = 3  ,   4 * 1 = 4  ,   5 * 1 = 5  ,   "
     ]
    }
   ],
   "source": [
    "#5 sol\n",
    "for i in range(1,6):\n",
    "    for j in range(1,11):\n",
    "        if i*j>i:\n",
    "            break\n",
    "        else:\n",
    "            print(f\"{i} * {j} = {i*j}\",end=\"  ,   \")"
   ]
  },
  {
   "cell_type": "code",
   "execution_count": 16,
   "id": "233ad780",
   "metadata": {},
   "outputs": [
    {
     "name": "stdout",
     "output_type": "stream",
     "text": [
      "enter number upto which no is to be printed 32\n",
      "1\n",
      "3\n",
      "5\n",
      "7\n",
      "9\n",
      "11\n",
      "13\n",
      "15\n",
      "17\n",
      "19\n",
      "21\n",
      "23\n",
      "25\n",
      "27\n",
      "29\n",
      "31\n"
     ]
    }
   ],
   "source": [
    "#6 sol\n",
    "x=0\n",
    "y=int(input(\"enter number upto which no is to be printed \"))\n",
    "while x<y:\n",
    "    x+=1\n",
    "    if x%2==0:\n",
    "        continue\n",
    "    else:\n",
    "        print(x)\n"
   ]
  }
 ],
 "metadata": {
  "kernelspec": {
   "display_name": "Python 3 (ipykernel)",
   "language": "python",
   "name": "python3"
  },
  "language_info": {
   "codemirror_mode": {
    "name": "ipython",
    "version": 3
   },
   "file_extension": ".py",
   "mimetype": "text/x-python",
   "name": "python",
   "nbconvert_exporter": "python",
   "pygments_lexer": "ipython3",
   "version": "3.9.13"
  }
 },
 "nbformat": 4,
 "nbformat_minor": 5
}
